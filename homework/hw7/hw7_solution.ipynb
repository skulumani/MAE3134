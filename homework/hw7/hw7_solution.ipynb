{
 "cells": [
  {
   "cell_type": "code",
   "execution_count": 32,
   "metadata": {
    "collapsed": true
   },
   "outputs": [],
   "source": [
    "import numpy as np\n",
    "import sympy\n",
    "\n",
    "def magdb(mag):\n",
    "    return 20*np.log10(mag)\n",
    "\n",
    "def phasedeg(phase):\n",
    "    return phase*180/np.pi"
   ]
  },
  {
   "cell_type": "markdown",
   "metadata": {},
   "source": [
    "### Problem 1\n",
    "\n",
    "We're looking for students to show the algebra required to transform the transfer function into the equivalent frequency response function. \n",
    "Then they should do the algebra to transform it into a more easily accessible form, ie. a complex number with real and imaginary parts. \n",
    "\n",
    "#### Part 1\n",
    "\n",
    "\\begin{align*}\n",
    "    G(s) = \\frac{X(s)}{F(s)} = \\frac{0.5}{s^2 + 2 s + 10}\n",
    "\\end{align*}\n",
    "\n",
    "The equivalent frequency response function is\n",
    "\\begin{align*}\n",
    "    G(j \\omega) = \\frac{\\frac{1}{2} (10 - \\omega^2)}{\\omega^4 - 16 \\omega^2 + 100} - j \\frac{\\omega}{\\omega^4 - 16 \\omega^2 + 100} \n",
    "\\end{align*}\n",
    "\n",
    "We can now evaluate these at the desired points"
   ]
  },
  {
   "cell_type": "code",
   "execution_count": 41,
   "metadata": {
    "collapsed": false
   },
   "outputs": [
    {
     "name": "stdout",
     "output_type": "stream",
     "text": [
      "Part 1a:    G(2j) = 0.057692 -0.038462j\n",
      "                  = 0.069338 < -33.690068 deg\n",
      "                  = -23.180633 db < -33.690068 deg\n",
      "Part 1b:    G(3.1623j) = -0.000002 -0.079056j\n",
      "                  = 0.079056 < -90.001280 deg\n",
      "                  = -22.041261 db < -90.001280 deg\n",
      "Part 1c:    G(2.8284j) = 0.027780 -0.078567j\n",
      "                  = 0.083333 < -70.527225 deg\n",
      "                  = -21.583625 db < -70.527225 deg\n"
     ]
    }
   ],
   "source": [
    "s, w = sympy.symbols('s w')\n",
    "G1s = 0.5/(s**2+2*s+10)  \n",
    "G1jw = 0.5*(10-w**2)/(w**4 - 16*w**2 + 100) - (w)/(w**4 - 16*w**2 +100)*sympy.I\n",
    "\n",
    "# make sure my derivation is correct\n",
    "np.testing.assert_equal(G1s.subs([(s,2*sympy.I)]).evalf(), G1jw.subs([(w, 2)]).evalf())\n",
    "np.testing.assert_almost_equal(G1s.subs([(s,3.1623*sympy.I)]).evalf(), G1jw.subs([(w, 3.1623)]).evalf())\n",
    "np.testing.assert_almost_equal(G1s.subs([(s,2.8284*sympy.I)]).evalf(), G1jw.subs([(w, 2.8284)]).evalf())\n",
    "\n",
    "# output correct answers in multiple forms\n",
    "G1a = complex(G1jw.subs([(w, 2)]).evalf())\n",
    "print(\"Part 1a:    G(2j) = %05f %+05fj\" % (np.real(G1a), np.imag(G1a)))\n",
    "print(\"                  = %05f < %05f deg\" % (np.linalg.norm(G1a),phasedeg(np.angle(G1a))))\n",
    "print(\"                  = %05f db < %05f deg\" % (magdb(np.linalg.norm(G1a)),phasedeg(np.angle(G1a))))\n",
    "\n",
    "G1b = complex(G1jw.subs([(w, 3.1623)]).evalf())\n",
    "print(\"Part 1b:    G(3.1623j) = %05f %+05fj\" % (np.real(G1b), np.imag(G1b)))\n",
    "print(\"                  = %05f < %05f deg\" % (np.linalg.norm(G1b),phasedeg(np.angle(G1b))))\n",
    "print(\"                  = %05f db < %05f deg\" % (magdb(np.linalg.norm(G1b)),phasedeg(np.angle(G1b))))\n",
    "\n",
    "G1c = complex(G1jw.subs([(w, 2.8284)]).evalf())\n",
    "print(\"Part 1c:    G(2.8284j) = %05f %+05fj\" % (np.real(G1c), np.imag(G1c)))\n",
    "print(\"                  = %05f < %05f deg\" % (np.linalg.norm(G1c),phasedeg(np.angle(G1c))))\n",
    "print(\"                  = %05f db < %05f deg\" % (magdb(np.linalg.norm(G1c)),phasedeg(np.angle(G1c))))"
   ]
  },
  {
   "cell_type": "markdown",
   "metadata": {},
   "source": [
    "#### Part 2\n",
    "\n",
    "\\begin{align*}\n",
    "    G(s) = \\frac{X(s)}{F(s)} = \\frac{5}{s + 6}\n",
    "\\end{align*}\n",
    "\n",
    "The equivalent frequency response function is\n",
    "\\begin{align*}\n",
    "    G(j \\omega) = \\frac{30}{36 + \\omega^2} - j \\frac{5\\omega}{36 + \\omega^2} \n",
    "\\end{align*}\n",
    "\n",
    "We can now evaluate these at the desired points"
   ]
  },
  {
   "cell_type": "code",
   "execution_count": 43,
   "metadata": {
    "collapsed": false
   },
   "outputs": [
    {
     "name": "stdout",
     "output_type": "stream",
     "text": [
      "Part 2a:    G(0.6j) = 0.825083 -0.082508j\n",
      "                  = 0.829198 < -5.710593 deg\n",
      "                  = -1.626839 db < -5.710593 deg\n",
      "Part 2b:    G(6j) = 0.416667 -0.416667j\n",
      "                  = 0.589256 < -45.000000 deg\n",
      "                  = -4.593925 db < -45.000000 deg\n",
      "Part 2c:    G(60j) = 0.008251 -0.082508j\n",
      "                  = 0.082920 < -84.289407 deg\n",
      "                  = -21.626839 db < -84.289407 deg\n"
     ]
    }
   ],
   "source": [
    "G2s = 5/(s+ 6)  \n",
    "G2jw = 30/(36 + w**2) - (5*w)/(36 + w**2)*sympy.I\n",
    "\n",
    "# make sure my derivation is correct\n",
    "np.testing.assert_equal(G2s.subs([(s,0.6*sympy.I)]).evalf(), G2jw.subs([(w, 0.6)]).evalf())\n",
    "np.testing.assert_almost_equal(G2s.subs([(s,6*sympy.I)]).evalf(), G2jw.subs([(w, 6)]).evalf())\n",
    "np.testing.assert_almost_equal(G2s.subs([(s,60*sympy.I)]).evalf(), G2jw.subs([(w, 60)]).evalf())\n",
    "\n",
    "# output correct answers in multiple forms\n",
    "G2a = complex(G2jw.subs([(w, 0.6)]).evalf())\n",
    "print(\"Part 2a:    G(0.6j) = %05f %+05fj\" % (np.real(G2a), np.imag(G2a)))\n",
    "print(\"                  = %05f < %05f deg\" % (np.linalg.norm(G2a),phasedeg(np.angle(G2a))))\n",
    "print(\"                  = %05f db < %05f deg\" % (magdb(np.linalg.norm(G2a)),phasedeg(np.angle(G2a))))\n",
    "\n",
    "G2b = complex(G2jw.subs([(w, 6)]).evalf())\n",
    "print(\"Part 2b:    G(6j) = %05f %+05fj\" % (np.real(G2b), np.imag(G2b)))\n",
    "print(\"                  = %05f < %05f deg\" % (np.linalg.norm(G2b),phasedeg(np.angle(G2b))))\n",
    "print(\"                  = %05f db < %05f deg\" % (magdb(np.linalg.norm(G2b)),phasedeg(np.angle(G2b))))\n",
    "\n",
    "G2c = complex(G2jw.subs([(w, 60)]).evalf())\n",
    "print(\"Part 2c:    G(60j) = %05f %+05fj\" % (np.real(G2c), np.imag(G2c)))\n",
    "print(\"                  = %05f < %05f deg\" % (np.linalg.norm(G2c),phasedeg(np.angle(G2c))))\n",
    "print(\"                  = %05f db < %05f deg\" % (magdb(np.linalg.norm(G2c)),phasedeg(np.angle(G2c))))"
   ]
  },
  {
   "cell_type": "markdown",
   "metadata": {},
   "source": [
    "#### Part 3\n",
    "\n",
    "\\begin{align*}\n",
    "    G(s) = \\frac{X(s)}{F(s)} = \\frac{s}{s + 35}\n",
    "\\end{align*}\n",
    "\n",
    "The equivalent frequency response function is\n",
    "\\begin{align*}\n",
    "    G(j \\omega) = \\frac{\\omega^2}{35^2 + \\omega^2} + j \\frac{35\\omega}{35 + \\omega^2} \n",
    "\\end{align*}\n",
    "\n",
    "We can now evaluate these at the desired points"
   ]
  },
  {
   "cell_type": "code",
   "execution_count": 45,
   "metadata": {
    "collapsed": false,
    "scrolled": true
   },
   "outputs": [
    {
     "name": "stdout",
     "output_type": "stream",
     "text": [
      "Part 3a:    G(2j) = 0.003255 +0.056957j\n",
      "                  = 0.057050 < 86.729512 deg\n",
      "                  = -24.874919 db < 86.729512 deg\n",
      "Part 2b:    G(6j) = 0.500000 +0.500000j\n",
      "                  = 0.707107 < 45.000000 deg\n",
      "                  = -3.010300 db < 45.000000 deg\n",
      "Part 2c:    G(60j) = 0.746114 +0.435233j\n",
      "                  = 0.863779 < 30.256437 deg\n",
      "                  = -1.271948 db < 30.256437 deg\n"
     ]
    }
   ],
   "source": [
    "G3s = s/(s + 35)  \n",
    "G3jw = w**2/(35**2 + w**2) + (35*w)/(35**2 + w**2)*sympy.I\n",
    "\n",
    "# make sure my derivation is correct\n",
    "np.testing.assert_equal(G3s.subs([(s,2*sympy.I)]).evalf(), G3jw.subs([(w, 2)]).evalf())\n",
    "np.testing.assert_almost_equal(G3s.subs([(s,35*sympy.I)]).evalf(), G3jw.subs([(w, 35)]).evalf())\n",
    "np.testing.assert_almost_equal(G3s.subs([(s,60*sympy.I)]).evalf(), G3jw.subs([(w, 60)]).evalf())\n",
    "\n",
    "# output correct answers in multiple forms\n",
    "G3a = complex(G3jw.subs([(w, 2)]).evalf())\n",
    "print(\"Part 3a:    G(2j) = %05f %+05fj\" % (np.real(G3a), np.imag(G3a)))\n",
    "print(\"                  = %05f < %05f deg\" % (np.linalg.norm(G3a),phasedeg(np.angle(G3a))))\n",
    "print(\"                  = %05f db < %05f deg\" % (magdb(np.linalg.norm(G3a)),phasedeg(np.angle(G3a))))\n",
    "\n",
    "G3b = complex(G3jw.subs([(w, 35)]).evalf())\n",
    "print(\"Part 2b:    G(6j) = %05f %+05fj\" % (np.real(G3b), np.imag(G3b)))\n",
    "print(\"                  = %05f < %05f deg\" % (np.linalg.norm(G3b),phasedeg(np.angle(G3b))))\n",
    "print(\"                  = %05f db < %05f deg\" % (magdb(np.linalg.norm(G3b)),phasedeg(np.angle(G3b))))\n",
    "\n",
    "G3c = complex(G3jw.subs([(w, 60)]).evalf())\n",
    "print(\"Part 2c:    G(60j) = %05f %+05fj\" % (np.real(G3c), np.imag(G3c)))\n",
    "print(\"                  = %05f < %05f deg\" % (np.linalg.norm(G3c),phasedeg(np.angle(G3c))))\n",
    "print(\"                  = %05f db < %05f deg\" % (magdb(np.linalg.norm(G3c)),phasedeg(np.angle(G3c))))"
   ]
  },
  {
   "cell_type": "markdown",
   "metadata": {},
   "source": [
    "#### Part 4\n",
    "\n",
    "\\begin{align*}\n",
    "    G(s) = \\frac{X(s)}{F(s)} = \\frac{0.21(s+2)}{(s+3.05)}\n",
    "\\end{align*}\n",
    "\n",
    "The equivalent frequency response function is\n",
    "\\begin{align*}\n",
    "    G(j \\omega) = \\frac{0.21(6.1+\\omega^2)}{3.05^2 + \\omega^2} + j \\frac{0.21(1.05 \\omega)}{3.05^2 + \\omega^2} \n",
    "\\end{align*}\n",
    "\n",
    "We can now evaluate these at the desired points"
   ]
  },
  {
   "cell_type": "code",
   "execution_count": 47,
   "metadata": {
    "collapsed": false
   },
   "outputs": [
    {
     "name": "stdout",
     "output_type": "stream",
     "text": [
      "Part 4a:    G(0.247j) = 0.138176 +0.005817j\n",
      "                  = 0.138298 < 2.410464 deg\n",
      "                  = -17.183661 db < 2.410464 deg\n",
      "Part 4b:    G(2.47j) = 0.166339 +0.035358j\n",
      "                  = 0.170056 < 12.000533 deg\n",
      "                  = -15.388179 db < 12.000533 deg\n",
      "Part 4c:    G(24.7j) = 0.746114 +0.435233j\n",
      "                  = 0.863779 < 30.256437 deg\n",
      "                  = -1.271948 db < 30.256437 deg\n"
     ]
    }
   ],
   "source": [
    "G4s = 0.21*(s+2)/(s + 3.05)  \n",
    "G4jw = 0.21*(6.1+w**2)/(3.05**2 + w**2) + (0.21*1.05*w)/(3.05**2 + w**2)*sympy.I\n",
    "\n",
    "# make sure my derivation is correct\n",
    "np.testing.assert_almost_equal(G4s.subs([(s,.247*sympy.I)]).evalf(), G4jw.subs([(w, 0.247)]).evalf())\n",
    "np.testing.assert_almost_equal(G4s.subs([(s,2.47*sympy.I)]).evalf(), G4jw.subs([(w, 2.47)]).evalf())\n",
    "np.testing.assert_almost_equal(G4s.subs([(s,24.7*sympy.I)]).evalf(), G4jw.subs([(w, 24.7)]).evalf())\n",
    "\n",
    "# output correct answers in multiple forms\n",
    "G4a = complex(G4jw.subs([(w, 0.247)]).evalf())\n",
    "print(\"Part 4a:    G(0.247j) = %05f %+05fj\" % (np.real(G4a), np.imag(G4a)))\n",
    "print(\"                  = %05f < %05f deg\" % (np.linalg.norm(G4a),phasedeg(np.angle(G4a))))\n",
    "print(\"                  = %05f db < %05f deg\" % (magdb(np.linalg.norm(G4a)),phasedeg(np.angle(G4a))))\n",
    "\n",
    "G4b = complex(G4jw.subs([(w, 2.47)]).evalf())\n",
    "print(\"Part 4b:    G(2.47j) = %05f %+05fj\" % (np.real(G4b), np.imag(G4b)))\n",
    "print(\"                  = %05f < %05f deg\" % (np.linalg.norm(G4b),phasedeg(np.angle(G4b))))\n",
    "print(\"                  = %05f db < %05f deg\" % (magdb(np.linalg.norm(G4b)),phasedeg(np.angle(G4b))))\n",
    "\n",
    "G4c = complex(G3jw.subs([(w, 60)]).evalf())\n",
    "print(\"Part 4c:    G(24.7j) = %05f %+05fj\" % (np.real(G4c), np.imag(G4c)))\n",
    "print(\"                  = %05f < %05f deg\" % (np.linalg.norm(G4c),phasedeg(np.angle(G4c))))\n",
    "print(\"                  = %05f db < %05f deg\" % (magdb(np.linalg.norm(G4c)),phasedeg(np.angle(G4c))))"
   ]
  }
 ],
 "metadata": {
  "kernelspec": {
   "display_name": "Python 3",
   "language": "python",
   "name": "python3"
  },
  "language_info": {
   "codemirror_mode": {
    "name": "ipython",
    "version": 3
   },
   "file_extension": ".py",
   "mimetype": "text/x-python",
   "name": "python",
   "nbconvert_exporter": "python",
   "pygments_lexer": "ipython3",
   "version": "3.6.0"
  }
 },
 "nbformat": 4,
 "nbformat_minor": 2
}
