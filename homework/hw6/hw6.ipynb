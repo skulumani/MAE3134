{
 "cells": [
  {
   "cell_type": "markdown",
   "metadata": {
    "deletable": true,
    "editable": true
   },
   "source": [
    "### Part 5\n",
    "\n",
    "Our Case 3 transfer function is defined as\n",
    "\n",
    "$$\n",
    "G(s) = \\frac{1}{s^2 + 0.5^2 +1}\n",
    "$$\n",
    "\n",
    "The frequency response function is defined as\n",
    "\n",
    "$$\n",
    "G(j\\omega) = \\frac{(1-\\omega^2) - 0.5 \\omega j}{(1-\\omega^2)^2 + 0.25 \\omega^2}\n",
    "$$\n",
    "\n",
    "The magnitude and phase are given by\n",
    "\n",
    "\\begin{align}\n",
    "    M &= \\frac{1}{\\sqrt{(1-\\omega^2)^2 + 0.25 \\omega^2}}, \\\\\n",
    "    \\phi &= - \\arctan \\frac{0.5 \\omega}{1-\\omega^2} .\n",
    "\\end{align}"
   ]
  },
  {
   "cell_type": "code",
   "execution_count": 2,
   "metadata": {
    "collapsed": false,
    "deletable": true,
    "editable": true
   },
   "outputs": [],
   "source": [
    "import numpy as np\n",
    "from scipy import signal\n",
    "import matplotlib.pyplot as plt\n",
    "\n",
    "## define analytical functions\n",
    "def magnitude(w):\n",
    "    mag = 1/np.sqrt((1-w**2)**2 + 0.25 * w**2)\n",
    "    return mag\n",
    "\n",
    "def phi(w):\n",
    "    phi = - np.arctan2(0.5*w, 1-w**2)\n",
    "    return phi*180/np.pi\n",
    "\n",
    "## our system\n",
    "num = 1\n",
    "den = [1, 0.5, 1]\n",
    "\n",
    "sys = signal.TransferFunction(num,den)\n",
    "w, mag, phase = signal.bode(sys)\n"
   ]
  },
  {
   "cell_type": "code",
   "execution_count": 5,
   "metadata": {
    "collapsed": false,
    "deletable": true,
    "editable": true
   },
   "outputs": [
    {
     "data": {
      "image/png": "[encoded data removed]",
      "text/plain": [
       "<matplotlib.figure.Figure at 0x7f18bfb1dc50>"
      ]
     },
     "metadata": {},
     "output_type": "display_data"
    },
    {
     "data": {
      "image/png": "[encoded data removed]",
      "text/plain": [
       "<matplotlib.figure.Figure at 0x7f18bf85a5c0>"
      ]
     },
     "metadata": {},
     "output_type": "display_data"
    }
   ],
   "source": [
    "## plot everything\n",
    "\n",
    "plt.figure()\n",
    "plt.title('Magnitude (db)')\n",
    "plt.semilogx(w, mag, label='Scipy')    # Bode magnitude plot\n",
    "plt.semilogx(w, 20*np.log10(magnitude(w)), label='Analytical')\n",
    "plt.grid()\n",
    "plt.axis('off')\n",
    "plt.savefig('mag.eps')\n",
    "# plt.legend()\n",
    "\n",
    "plt.figure()\n",
    "plt.title('Phase (deg)')\n",
    "plt.semilogx(w, phase, label='Scipy')  # Bode phase plot\n",
    "plt.semilogx(w, phi(w), label='Analytical')\n",
    "plt.grid()\n",
    "# plt.legend()\n",
    "plt.axis('off')\n",
    "plt.savefig('phase.eps')\n",
    "plt.show()"
   ]
  },
  {
   "cell_type": "code",
   "execution_count": 30,
   "metadata": {
    "collapsed": false,
    "deletable": true,
    "editable": true
   },
   "outputs": [
    {
     "name": "stdout",
     "output_type": "stream",
     "text": [
      "M(0.05) = 1.002192\n",
      "Phi(0.05) = -1.435684 \n"
     ]
    }
   ],
   "source": [
    "print(\"M(0.05) = %f\" % magnitude(0.05))\n",
    "print(\"Phi(0.05) = %f \" %  phi(0.05))"
   ]
  }
 ],
 "metadata": {
  "kernelspec": {
   "display_name": "Python 3",
   "language": "python",
   "name": "python3"
  }
 },
 "nbformat": 4,
 "nbformat_minor": 2
}
